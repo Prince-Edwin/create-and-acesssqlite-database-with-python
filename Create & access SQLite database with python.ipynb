{
 "cells": [
  {
   "cell_type": "markdown",
   "id": "2f138d83-fc47-405d-80a7-7ebc1027a741",
   "metadata": {},
   "source": [
    "# CREATE AND ACCESS SQLITE DATABASE WITH PYTHON"
   ]
  },
  {
   "cell_type": "markdown",
   "id": "a830e273-63a3-4195-ac13-2ee2a3ce8576",
   "metadata": {},
   "source": [
    "# Objective:"
   ]
  },
  {
   "cell_type": "markdown",
   "id": "6dbefccf-4c6a-4b10-821a-5db741c5cce5",
   "metadata": {},
   "source": [
    "## At the end of this lesson, you will be able to:"
   ]
  },
  {
   "cell_type": "markdown",
   "id": "b450586d-eca4-49ac-9735-2e822704935e",
   "metadata": {},
   "source": [
    "- Create a table\n",
    "- Create a database\n",
    "- Insert data into the table\n",
    "- Query data from the table\n",
    "- Retrieve the result set into a pandas dataframe\n",
    "- Close the data connnection"
   ]
  },
  {
   "cell_type": "markdown",
   "id": "a16a77be-8c36-4f6e-92ac-4775dcec9770",
   "metadata": {},
   "source": [
    "SQLite is a software library that implements a self-contained, serverless, zero-configuration, transactional SQL database engine. SQLite is the most widely deployed SQL database engine in the world.\n",
    "\n",
    "## Task 1: Create database using SQLite\n"
   ]
  },
  {
   "cell_type": "code",
   "execution_count": 1,
   "id": "f821f956-049a-4f4c-86b1-cff6d710d170",
   "metadata": {
    "tags": []
   },
   "outputs": [],
   "source": [
    "#Install & load sqlite3\n",
    "#!pip install sqlite3 if sqlite in not installed into your working environment.\n",
    "import sqlite3"
   ]
  },
  {
   "cell_type": "code",
   "execution_count": 2,
   "id": "4dd1d13b-c11a-4db2-a367-98e0160695e6",
   "metadata": {
    "tags": []
   },
   "outputs": [],
   "source": [
    "# Connecting to sqlite database with connection object 'conn'\n",
    "\n",
    "conn = sqlite3.connect('INSTRUCTOR.db')"
   ]
  },
  {
   "cell_type": "markdown",
   "id": "12828b29-2f0f-416d-82d1-acbca4e20466",
   "metadata": {},
   "source": [
    " You can create Cursor object using the cursor() method of the Connection object/class. Cursor class is an instance using which you can invoke methods that execute SQLite statements, fetch data from the result sets of the queries.\n"
   ]
  },
  {
   "cell_type": "code",
   "execution_count": 3,
   "id": "bb7f1ab9-2a0c-47c6-9e4d-7d7bb913d129",
   "metadata": {
    "tags": []
   },
   "outputs": [],
   "source": [
    "#  Create cursor object\n",
    "cursor_obj = conn.cursor()"
   ]
  },
  {
   "cell_type": "markdown",
   "id": "bf010457-d200-4925-bde5-4d515d8fb34e",
   "metadata": {},
   "source": [
    "## Task 2: Create a table in the database\n",
    "\n",
    "In this step we will create a table in the database with following details:\n",
    "\n",
    "<img src=\"https://cf-courses-data.s3.us.cloud-object-storage.appdomain.cloud/IBMDeveloperSkillsNetwork-DB0201EN-SkillsNetwork/labs/FinalModule_Coursera_V5/images/table.png\" align=\"center\">\n"
   ]
  },
  {
   "cell_type": "code",
   "execution_count": 5,
   "id": "9ea4854e-87b2-4410-af52-254815d992dd",
   "metadata": {
    "tags": []
   },
   "outputs": [
    {
     "name": "stdout",
     "output_type": "stream",
     "text": [
      "Table is Ready\n"
     ]
    }
   ],
   "source": [
    "# Creating table\n",
    "table = \"\"\" create table IF NOT EXISTS INSTRUCTOR(ID INTEGER PRIMARY KEY NOT NULL, FNAME VARCHAR(20), LNAME VARCHAR(20), CITY VARCHAR(20), CCODE CHAR(2));\"\"\"\n",
    " \n",
    "cursor_obj.execute(table)\n",
    " \n",
    "print(\"Table is Ready\")"
   ]
  },
  {
   "cell_type": "markdown",
   "id": "34fade77-95fa-4261-891c-2a0d8d362fab",
   "metadata": {},
   "source": [
    "## Task 3: Insert data into the table\n",
    "\n",
    "In this step we will insert some rows of data into the table.\n",
    "\n",
    "The INSTRUCTOR table we created in the previous step contains 3 rows of data:\n",
    "\n",
    "<img src=\"https://cf-courses-data.s3.us.cloud-object-storage.appdomain.cloud/IBMDeveloperSkillsNetwork-DB0201EN-SkillsNetwork/labs/FinalModule_Coursera_V5/images/table1.png\" align=\"center\">\n",
    "\n",
    "We will start by inserting just the first row of data, i.e. for instructor Rav Ahuja\n"
   ]
  },
  {
   "cell_type": "code",
   "execution_count": 6,
   "id": "907e0da8-c9e6-4d2c-96a1-406be00c17f4",
   "metadata": {
    "tags": []
   },
   "outputs": [
    {
     "data": {
      "text/plain": [
       "<sqlite3.Cursor at 0x21169e87540>"
      ]
     },
     "execution_count": 6,
     "metadata": {},
     "output_type": "execute_result"
    }
   ],
   "source": [
    "cursor_obj.execute('''insert into INSTRUCTOR values (1, 'Rav', 'Ahuja', 'TORONTO', 'CA')''')"
   ]
  },
  {
   "cell_type": "markdown",
   "id": "57b2497a-6041-4a3f-9b20-312619b80e89",
   "metadata": {},
   "source": [
    "The output you will get something as: <strong>sqlite3.Cursor at 0x27a1a491260</strong> which means mySql database has sqlite3.Cursor object at 0x27a1a49126 as output in table. But you may get the different number.\n",
    "\n",
    "Now use a single query to insert the remaining two rows of data\n"
   ]
  },
  {
   "cell_type": "code",
   "execution_count": 7,
   "id": "2dd7b4c7-ea70-46e4-b3ec-f978e0305768",
   "metadata": {
    "tags": []
   },
   "outputs": [
    {
     "data": {
      "text/plain": [
       "<sqlite3.Cursor at 0x21169e87540>"
      ]
     },
     "execution_count": 7,
     "metadata": {},
     "output_type": "execute_result"
    }
   ],
   "source": [
    "cursor_obj.execute('''insert into INSTRUCTOR values(2, 'Raul', 'Chong', 'Markham', 'CA'), (3, 'Hima', 'Vasudevan', 'Chicago', 'US')''')"
   ]
  },
  {
   "cell_type": "markdown",
   "id": "4b41444f-9151-49e6-9f87-8e9a6ff4d5a9",
   "metadata": {},
   "source": [
    "## Task 4: Query data in the table\n",
    "\n",
    "In this step we will retrieve data we inserted into the INSTRUCTOR table.\n"
   ]
  },
  {
   "cell_type": "code",
   "execution_count": 10,
   "id": "d4ef4b1f-5003-4dbe-a39c-c68a75a4ebd7",
   "metadata": {
    "tags": []
   },
   "outputs": [
    {
     "name": "stdout",
     "output_type": "stream",
     "text": [
      "All the data\n",
      "(1, 'Rav', 'Ahuja', 'TORONTO', 'CA')\n",
      "(2, 'Raul', 'Chong', 'Markham', 'CA')\n",
      "(3, 'Hima', 'Vasudevan', 'Chicago', 'US')\n"
     ]
    }
   ],
   "source": [
    "statement = '''SELECT * FROM INSTRUCTOR'''\n",
    "cursor_obj.execute(statement)\n",
    "print(\"All the data\")\n",
    "output_all = cursor_obj.fetchall()\n",
    "for row_all in output_all:\n",
    "    print(row_all)"
   ]
  },
  {
   "cell_type": "code",
   "execution_count": 11,
   "id": "81a78f0c-3b50-4eb5-b4e3-de878d631cfa",
   "metadata": {
    "tags": []
   },
   "outputs": [
    {
     "name": "stdout",
     "output_type": "stream",
     "text": [
      "All the data\n",
      "(1, 'Rav', 'Ahuja', 'TORONTO', 'CA')\n",
      "(2, 'Raul', 'Chong', 'Markham', 'CA')\n"
     ]
    }
   ],
   "source": [
    "## Fetch few rows from the table\n",
    "statement = '''SELECT * FROM INSTRUCTOR'''\n",
    "cursor_obj.execute(statement)\n",
    "  \n",
    "print(\"All the data\")\n",
    "# If you want to fetch few rows from the table we use fetchmany(numberofrows) and mention the number,(i.e how many rows you want to fetch)\n",
    "output_many = cursor_obj.fetchmany(2) \n",
    "for row_many in output_many:\n",
    "  print(row_many)"
   ]
  },
  {
   "cell_type": "code",
   "execution_count": 12,
   "id": "cb9b964d-4b2b-488c-b5be-0e1a5fe1bb51",
   "metadata": {
    "tags": []
   },
   "outputs": [
    {
     "name": "stdout",
     "output_type": "stream",
     "text": [
      "All the data\n",
      "('Rav',)\n",
      "('Raul',)\n",
      "('Hima',)\n"
     ]
    }
   ],
   "source": [
    "# Fetch only FNAME from the table\n",
    "statement = '''SELECT FNAME FROM INSTRUCTOR'''\n",
    "cursor_obj.execute(statement)\n",
    "  \n",
    "print(\"All the data\")\n",
    "output_column = cursor_obj.fetchall()\n",
    "for fetch in output_column:\n",
    "  print(fetch)"
   ]
  },
  {
   "cell_type": "markdown",
   "id": "3ba818ff-2d00-44af-89d0-6d73c271edca",
   "metadata": {
    "tags": []
   },
   "source": [
    "## Task 5: Retrieve data into Pandas\n",
    "\n",
    "In this step we will retrieve the contents of the INSTRUCTOR table into a Pandas dataframe\n"
   ]
  },
  {
   "cell_type": "code",
   "execution_count": 16,
   "id": "268123db-349e-49d3-bc5c-f0a14c82a2bf",
   "metadata": {
    "tags": []
   },
   "outputs": [
    {
     "name": "stdout",
     "output_type": "stream",
     "text": [
      "Collecting pandas\n",
      "  Obtaining dependency information for pandas from https://files.pythonhosted.org/packages/2d/5e/9213ea10ac473e2437dc2cb17323ddc0999997e2713d6a0b683b10773994/pandas-2.1.1-cp311-cp311-win_amd64.whl.metadata\n",
      "  Downloading pandas-2.1.1-cp311-cp311-win_amd64.whl.metadata (18 kB)\n",
      "Requirement already satisfied: numpy>=1.23.2 in c:\\users\\ndubuisi\\anaconda3\\lib\\site-packages (from pandas) (1.24.3)\n",
      "Requirement already satisfied: python-dateutil>=2.8.2 in c:\\users\\ndubuisi\\anaconda3\\lib\\site-packages (from pandas) (2.8.2)\n",
      "Requirement already satisfied: pytz>=2020.1 in c:\\users\\ndubuisi\\anaconda3\\lib\\site-packages (from pandas) (2022.7)\n",
      "Collecting tzdata>=2022.1 (from pandas)\n",
      "  Downloading tzdata-2023.3-py2.py3-none-any.whl (341 kB)\n",
      "     ---------------------------------------- 0.0/341.8 kB ? eta -:--:--\n",
      "     - -------------------------------------- 10.2/341.8 kB ? eta -:--:--\n",
      "     - -------------------------------------- 10.2/341.8 kB ? eta -:--:--\n",
      "     --- --------------------------------- 30.7/341.8 kB 262.6 kB/s eta 0:00:02\n",
      "     ---- -------------------------------- 41.0/341.8 kB 245.8 kB/s eta 0:00:02\n",
      "     ------- ----------------------------- 71.7/341.8 kB 326.8 kB/s eta 0:00:01\n",
      "     ----------- ------------------------ 112.6/341.8 kB 409.6 kB/s eta 0:00:01\n",
      "     ---------------- ------------------- 153.6/341.8 kB 510.2 kB/s eta 0:00:01\n",
      "     -------------------------- --------- 256.0/341.8 kB 714.4 kB/s eta 0:00:01\n",
      "     -----------------------------------  337.9/341.8 kB 838.1 kB/s eta 0:00:01\n",
      "     -----------------------------------  337.9/341.8 kB 838.1 kB/s eta 0:00:01\n",
      "     -----------------------------------  337.9/341.8 kB 838.1 kB/s eta 0:00:01\n",
      "     ------------------------------------ 341.8/341.8 kB 624.5 kB/s eta 0:00:00\n",
      "Requirement already satisfied: six>=1.5 in c:\\users\\ndubuisi\\anaconda3\\lib\\site-packages (from python-dateutil>=2.8.2->pandas) (1.16.0)\n",
      "Downloading pandas-2.1.1-cp311-cp311-win_amd64.whl (10.6 MB)\n",
      "   ---------------------------------------- 0.0/10.6 MB ? eta -:--:--\n",
      "   ---------------------------------------- 0.1/10.6 MB 2.3 MB/s eta 0:00:05\n",
      "   ---------------------------------------- 0.1/10.6 MB 1.4 MB/s eta 0:00:08\n",
      "    --------------------------------------- 0.2/10.6 MB 1.3 MB/s eta 0:00:08\n",
      "    --------------------------------------- 0.2/10.6 MB 1.1 MB/s eta 0:00:10\n",
      "   - -------------------------------------- 0.3/10.6 MB 1.5 MB/s eta 0:00:08\n",
      "   - -------------------------------------- 0.4/10.6 MB 1.4 MB/s eta 0:00:08\n",
      "   -- ------------------------------------- 0.5/10.6 MB 1.7 MB/s eta 0:00:07\n",
      "   -- ------------------------------------- 0.7/10.6 MB 1.8 MB/s eta 0:00:06\n",
      "   --- ------------------------------------ 0.8/10.6 MB 1.9 MB/s eta 0:00:06\n",
      "   --- ------------------------------------ 1.0/10.6 MB 2.1 MB/s eta 0:00:05\n",
      "   ---- ----------------------------------- 1.1/10.6 MB 2.2 MB/s eta 0:00:05\n",
      "   ---- ----------------------------------- 1.2/10.6 MB 2.1 MB/s eta 0:00:05\n",
      "   ---- ----------------------------------- 1.3/10.6 MB 2.1 MB/s eta 0:00:05\n",
      "   ----- ---------------------------------- 1.4/10.6 MB 2.2 MB/s eta 0:00:05\n",
      "   ----- ---------------------------------- 1.6/10.6 MB 2.3 MB/s eta 0:00:04\n",
      "   ------ --------------------------------- 1.7/10.6 MB 2.3 MB/s eta 0:00:04\n",
      "   ------- -------------------------------- 1.9/10.6 MB 2.4 MB/s eta 0:00:04\n",
      "   ------- -------------------------------- 2.0/10.6 MB 2.4 MB/s eta 0:00:04\n",
      "   ------- -------------------------------- 2.1/10.6 MB 2.4 MB/s eta 0:00:04\n",
      "   -------- ------------------------------- 2.2/10.6 MB 2.4 MB/s eta 0:00:04\n",
      "   -------- ------------------------------- 2.3/10.6 MB 2.4 MB/s eta 0:00:04\n",
      "   --------- ------------------------------ 2.4/10.6 MB 2.4 MB/s eta 0:00:04\n",
      "   --------- ------------------------------ 2.5/10.6 MB 2.4 MB/s eta 0:00:04\n",
      "   --------- ------------------------------ 2.6/10.6 MB 2.4 MB/s eta 0:00:04\n",
      "   ---------- ----------------------------- 2.7/10.6 MB 2.4 MB/s eta 0:00:04\n",
      "   ---------- ----------------------------- 2.9/10.6 MB 2.4 MB/s eta 0:00:04\n",
      "   ----------- ---------------------------- 2.9/10.6 MB 2.3 MB/s eta 0:00:04\n",
      "   ----------- ---------------------------- 3.1/10.6 MB 2.4 MB/s eta 0:00:04\n",
      "   ------------ --------------------------- 3.2/10.6 MB 2.4 MB/s eta 0:00:04\n",
      "   ------------ --------------------------- 3.3/10.6 MB 2.4 MB/s eta 0:00:04\n",
      "   ------------ --------------------------- 3.4/10.6 MB 2.4 MB/s eta 0:00:04\n",
      "   ------------- -------------------------- 3.5/10.6 MB 2.3 MB/s eta 0:00:04\n",
      "   ------------- -------------------------- 3.6/10.6 MB 2.3 MB/s eta 0:00:04\n",
      "   ------------- -------------------------- 3.7/10.6 MB 2.3 MB/s eta 0:00:04\n",
      "   -------------- ------------------------- 3.7/10.6 MB 2.3 MB/s eta 0:00:03\n",
      "   -------------- ------------------------- 3.9/10.6 MB 2.3 MB/s eta 0:00:03\n",
      "   --------------- ------------------------ 4.0/10.6 MB 2.3 MB/s eta 0:00:03\n",
      "   --------------- ------------------------ 4.0/10.6 MB 2.3 MB/s eta 0:00:03\n",
      "   --------------- ------------------------ 4.1/10.6 MB 2.3 MB/s eta 0:00:03\n",
      "   --------------- ------------------------ 4.2/10.6 MB 2.3 MB/s eta 0:00:03\n",
      "   ---------------- ----------------------- 4.3/10.6 MB 2.3 MB/s eta 0:00:03\n",
      "   ---------------- ----------------------- 4.4/10.6 MB 2.3 MB/s eta 0:00:03\n",
      "   ---------------- ----------------------- 4.5/10.6 MB 2.3 MB/s eta 0:00:03\n",
      "   ----------------- ---------------------- 4.6/10.6 MB 2.2 MB/s eta 0:00:03\n",
      "   ----------------- ---------------------- 4.7/10.6 MB 2.2 MB/s eta 0:00:03\n",
      "   ----------------- ---------------------- 4.7/10.6 MB 2.2 MB/s eta 0:00:03\n",
      "   ----------------- ---------------------- 4.7/10.6 MB 2.2 MB/s eta 0:00:03\n",
      "   ------------------ --------------------- 4.8/10.6 MB 2.2 MB/s eta 0:00:03\n",
      "   ------------------ --------------------- 4.9/10.6 MB 2.2 MB/s eta 0:00:03\n",
      "   ------------------ --------------------- 5.0/10.6 MB 2.2 MB/s eta 0:00:03\n",
      "   ------------------- -------------------- 5.2/10.6 MB 2.2 MB/s eta 0:00:03\n",
      "   ------------------- -------------------- 5.3/10.6 MB 2.2 MB/s eta 0:00:03\n",
      "   -------------------- ------------------- 5.5/10.6 MB 2.2 MB/s eta 0:00:03\n",
      "   --------------------- ------------------ 5.6/10.6 MB 2.3 MB/s eta 0:00:03\n",
      "   --------------------- ------------------ 5.8/10.6 MB 2.3 MB/s eta 0:00:03\n",
      "   ---------------------- ----------------- 5.9/10.6 MB 2.3 MB/s eta 0:00:03\n",
      "   ---------------------- ----------------- 6.1/10.6 MB 2.3 MB/s eta 0:00:02\n",
      "   ----------------------- ---------------- 6.2/10.6 MB 2.3 MB/s eta 0:00:02\n",
      "   ----------------------- ---------------- 6.4/10.6 MB 2.3 MB/s eta 0:00:02\n",
      "   ------------------------ --------------- 6.5/10.6 MB 2.3 MB/s eta 0:00:02\n",
      "   ------------------------ --------------- 6.6/10.6 MB 2.3 MB/s eta 0:00:02\n",
      "   ------------------------- -------------- 6.7/10.6 MB 2.3 MB/s eta 0:00:02\n",
      "   ------------------------- -------------- 6.9/10.6 MB 2.3 MB/s eta 0:00:02\n",
      "   -------------------------- ------------- 7.0/10.6 MB 2.4 MB/s eta 0:00:02\n",
      "   --------------------------- ------------ 7.2/10.6 MB 2.4 MB/s eta 0:00:02\n",
      "   --------------------------- ------------ 7.4/10.6 MB 2.4 MB/s eta 0:00:02\n",
      "   ---------------------------- ----------- 7.5/10.6 MB 2.4 MB/s eta 0:00:02\n",
      "   ---------------------------- ----------- 7.7/10.6 MB 2.4 MB/s eta 0:00:02\n",
      "   ----------------------------- ---------- 7.8/10.6 MB 2.4 MB/s eta 0:00:02\n",
      "   ----------------------------- ---------- 7.9/10.6 MB 2.4 MB/s eta 0:00:02\n",
      "   ------------------------------ --------- 8.0/10.6 MB 2.4 MB/s eta 0:00:02\n",
      "   ------------------------------ --------- 8.2/10.6 MB 2.4 MB/s eta 0:00:02\n",
      "   ------------------------------- -------- 8.3/10.6 MB 2.5 MB/s eta 0:00:01\n",
      "   ------------------------------- -------- 8.5/10.6 MB 2.5 MB/s eta 0:00:01\n",
      "   -------------------------------- ------- 8.6/10.6 MB 2.5 MB/s eta 0:00:01\n",
      "   -------------------------------- ------- 8.7/10.6 MB 2.5 MB/s eta 0:00:01\n",
      "   -------------------------------- ------- 8.7/10.6 MB 2.5 MB/s eta 0:00:01\n",
      "   --------------------------------- ------ 8.8/10.6 MB 2.4 MB/s eta 0:00:01\n",
      "   --------------------------------- ------ 8.9/10.6 MB 2.4 MB/s eta 0:00:01\n",
      "   --------------------------------- ------ 9.0/10.6 MB 2.4 MB/s eta 0:00:01\n",
      "   ---------------------------------- ----- 9.1/10.6 MB 2.4 MB/s eta 0:00:01\n",
      "   ---------------------------------- ----- 9.2/10.6 MB 2.4 MB/s eta 0:00:01\n",
      "   ---------------------------------- ----- 9.3/10.6 MB 2.4 MB/s eta 0:00:01\n",
      "   ----------------------------------- ---- 9.4/10.6 MB 2.4 MB/s eta 0:00:01\n",
      "   ----------------------------------- ---- 9.5/10.6 MB 2.4 MB/s eta 0:00:01\n",
      "   ------------------------------------ --- 9.6/10.6 MB 2.4 MB/s eta 0:00:01\n",
      "   ------------------------------------ --- 9.7/10.6 MB 2.4 MB/s eta 0:00:01\n",
      "   ------------------------------------ --- 9.8/10.6 MB 2.4 MB/s eta 0:00:01\n",
      "   ------------------------------------- -- 10.0/10.6 MB 2.4 MB/s eta 0:00:01\n",
      "   ------------------------------------- -- 10.1/10.6 MB 2.4 MB/s eta 0:00:01\n",
      "   -------------------------------------- - 10.3/10.6 MB 2.4 MB/s eta 0:00:01\n",
      "   ---------------------------------------  10.4/10.6 MB 2.5 MB/s eta 0:00:01\n",
      "   ---------------------------------------  10.6/10.6 MB 2.5 MB/s eta 0:00:01\n",
      "   ---------------------------------------  10.6/10.6 MB 2.5 MB/s eta 0:00:01\n",
      "   ---------------------------------------  10.6/10.6 MB 2.5 MB/s eta 0:00:01\n",
      "   ---------------------------------------  10.6/10.6 MB 2.5 MB/s eta 0:00:01\n",
      "   ---------------------------------------- 10.6/10.6 MB 2.4 MB/s eta 0:00:00\n",
      "Installing collected packages: tzdata, pandas\n",
      "Successfully installed pandas-2.1.1 tzdata-2023.3\n"
     ]
    }
   ],
   "source": [
    "!pip install pandas"
   ]
  },
  {
   "cell_type": "code",
   "execution_count": 17,
   "id": "174b3b4f-591b-4d3e-bc70-27e7f2269fed",
   "metadata": {
    "tags": []
   },
   "outputs": [],
   "source": [
    "import pandas as pd"
   ]
  },
  {
   "cell_type": "code",
   "execution_count": 18,
   "id": "a25c33ca-5562-4c4f-b8a5-5e43f8ff67fc",
   "metadata": {
    "tags": []
   },
   "outputs": [
    {
     "data": {
      "text/html": [
       "<div>\n",
       "<style scoped>\n",
       "    .dataframe tbody tr th:only-of-type {\n",
       "        vertical-align: middle;\n",
       "    }\n",
       "\n",
       "    .dataframe tbody tr th {\n",
       "        vertical-align: top;\n",
       "    }\n",
       "\n",
       "    .dataframe thead th {\n",
       "        text-align: right;\n",
       "    }\n",
       "</style>\n",
       "<table border=\"1\" class=\"dataframe\">\n",
       "  <thead>\n",
       "    <tr style=\"text-align: right;\">\n",
       "      <th></th>\n",
       "      <th>ID</th>\n",
       "      <th>FNAME</th>\n",
       "      <th>LNAME</th>\n",
       "      <th>CITY</th>\n",
       "      <th>CCODE</th>\n",
       "    </tr>\n",
       "  </thead>\n",
       "  <tbody>\n",
       "    <tr>\n",
       "      <th>0</th>\n",
       "      <td>1</td>\n",
       "      <td>Rav</td>\n",
       "      <td>Ahuja</td>\n",
       "      <td>TORONTO</td>\n",
       "      <td>CA</td>\n",
       "    </tr>\n",
       "    <tr>\n",
       "      <th>1</th>\n",
       "      <td>2</td>\n",
       "      <td>Raul</td>\n",
       "      <td>Chong</td>\n",
       "      <td>Markham</td>\n",
       "      <td>CA</td>\n",
       "    </tr>\n",
       "    <tr>\n",
       "      <th>2</th>\n",
       "      <td>3</td>\n",
       "      <td>Hima</td>\n",
       "      <td>Vasudevan</td>\n",
       "      <td>Chicago</td>\n",
       "      <td>US</td>\n",
       "    </tr>\n",
       "  </tbody>\n",
       "</table>\n",
       "</div>"
      ],
      "text/plain": [
       "   ID FNAME      LNAME     CITY CCODE\n",
       "0   1   Rav      Ahuja  TORONTO    CA\n",
       "1   2  Raul      Chong  Markham    CA\n",
       "2   3  Hima  Vasudevan  Chicago    US"
      ]
     },
     "execution_count": 18,
     "metadata": {},
     "output_type": "execute_result"
    }
   ],
   "source": [
    "df = pd.read_sql_query('select * from instructor', conn)\n",
    "# print dataframe\n",
    "df"
   ]
  },
  {
   "cell_type": "code",
   "execution_count": 19,
   "id": "f6130975-cc0b-41d3-9941-e7735074f71a",
   "metadata": {
    "tags": []
   },
   "outputs": [
    {
     "data": {
      "text/plain": [
       "'Ahuja'"
      ]
     },
     "execution_count": 19,
     "metadata": {},
     "output_type": "execute_result"
    }
   ],
   "source": [
    "#print just the LNAME for first row in the pandas data frame\n",
    "df.LNAME[0]"
   ]
  },
  {
   "cell_type": "markdown",
   "id": "9e8a9039-e28f-4be2-b324-1801a1ae9e89",
   "metadata": {},
   "source": [
    "Once the data is in a Pandas dataframe, you can do the typical pandas operations on it.\n",
    "\n",
    "For example you can use the shape method to see how many rows and columns are in the dataframe\n"
   ]
  },
  {
   "cell_type": "code",
   "execution_count": 20,
   "id": "c8399d9b-7f4f-47d2-8287-e387f1aab76a",
   "metadata": {
    "tags": []
   },
   "outputs": [
    {
     "data": {
      "text/plain": [
       "(3, 5)"
      ]
     },
     "execution_count": 20,
     "metadata": {},
     "output_type": "execute_result"
    }
   ],
   "source": [
    "df.shape"
   ]
  },
  {
   "cell_type": "markdown",
   "id": "32688578-b37b-49ba-aa02-4fd5d7ed37e9",
   "metadata": {},
   "source": [
    "The dataframe has 3 rows and 5 columns"
   ]
  },
  {
   "cell_type": "markdown",
   "id": "2a3c49b5-cf99-481f-ad13-8fb6bf4e4b81",
   "metadata": {},
   "source": [
    "## Task 6: Close the Connection\n",
    "\n",
    "We free all resources by closing the connection. Remember that it is always important to close connections so that we can avoid unused connections taking up resources.\n"
   ]
  },
  {
   "cell_type": "code",
   "execution_count": 21,
   "id": "18c39ab3-ece1-418a-8aa5-6261fa48d501",
   "metadata": {
    "tags": []
   },
   "outputs": [],
   "source": [
    "# Close the connection\n",
    "conn.close()"
   ]
  },
  {
   "cell_type": "markdown",
   "id": "5a1737a0-2f1f-450b-ac71-a46be3fc8b24",
   "metadata": {},
   "source": [
    "## Summary\n",
    "\n",
    "In this tutorial I created a database & table in Python notebook using SQLite3. Then created a table and insert a few rows of data into it. Then queried the data. I also retrieved the data into a pandas dataframe.\n"
   ]
  },
  {
   "cell_type": "markdown",
   "id": "788c26e6-5ea0-4e88-a4de-cdb653eb0e95",
   "metadata": {
    "tags": []
   },
   "source": [
    "# Author\n",
    "Amanze Edwin"
   ]
  },
  {
   "cell_type": "markdown",
   "id": "c5edb971-fefa-4843-beb7-ed62e2f8397a",
   "metadata": {},
   "source": []
  }
 ],
 "metadata": {
  "kernelspec": {
   "display_name": "Python 3 (ipykernel)",
   "language": "python",
   "name": "python3"
  },
  "language_info": {
   "codemirror_mode": {
    "name": "ipython",
    "version": 3
   },
   "file_extension": ".py",
   "mimetype": "text/x-python",
   "name": "python",
   "nbconvert_exporter": "python",
   "pygments_lexer": "ipython3",
   "version": "3.11.5"
  }
 },
 "nbformat": 4,
 "nbformat_minor": 5
}
